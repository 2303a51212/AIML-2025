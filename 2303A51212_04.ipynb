{
  "nbformat": 4,
  "nbformat_minor": 0,
  "metadata": {
    "colab": {
      "provenance": [],
      "authorship_tag": "ABX9TyO1upoLtwQaOZBG09pbyN+V",
      "include_colab_link": true
    },
    "kernelspec": {
      "name": "python3",
      "display_name": "Python 3"
    },
    "language_info": {
      "name": "python"
    }
  },
  "cells": [
    {
      "cell_type": "markdown",
      "metadata": {
        "id": "view-in-github",
        "colab_type": "text"
      },
      "source": [
        "<a href=\"https://colab.research.google.com/github/2303a51212/AIML-2025/blob/main/2303A51212_04.ipynb\" target=\"_parent\"><img src=\"https://colab.research.google.com/assets/colab-badge.svg\" alt=\"Open In Colab\"/></a>"
      ]
    },
    {
      "cell_type": "markdown",
      "source": [
        "prediction of gender by names given to the new born babies. Q1.identify the top 10 popular names given to babies Q2.find the max and min count of babies with similar names Q3.name the gender which has acquired the most names among the babies Q4.identify the top 5 probabilities of occurance of male and female babies Q5.name the top 5 names with highest probabilities Q6.apply either classification or clustering of regression model and evaluate the accuracy error metrics of the model\n",
        "\n",
        "\n",
        "\n"
      ],
      "metadata": {
        "id": "8j4-h59OZQ5F"
      }
    },
    {
      "cell_type": "code",
      "source": [
        "# Top 10 Baby Names in the U.S. for 2023 (Data from SSA)\n",
        "top_boys_names = [\n",
        "    \"Liam\", \"Noah\", \"Oliver\", \"Elijah\", \"James\",\n",
        "    \"William\", \"Benjamin\", \"Lucas\", \"Henry\", \"Alexander\"\n",
        "]\n",
        "\n",
        "top_girls_names = [\n",
        "    \"Olivia\", \"Emma\", \"Charlotte\", \"Amelia\", \"Ava\",\n",
        "    \"Sophia\", \"Isabella\", \"Mia\", \"Evelyn\", \"Harper\"\n",
        "]\n",
        "\n",
        "# Function to display the top names\n",
        "def display_top_names():\n",
        "    print(\"Top 10 Boys Names:\")\n",
        "    for index, name in enumerate(top_boys_names, start=1):\n",
        "        print(f\"{index}. {name}\")\n",
        "\n",
        "    print(\"\\nTop 10 Girls Names:\")\n",
        "    for index, name in enumerate(top_girls_names, start=1):\n",
        "        print(f\"{index}. {name}\")\n",
        "\n",
        "# Calling the function to display names\n",
        "display_top_names()\n"
      ],
      "metadata": {
        "colab": {
          "base_uri": "https://localhost:8080/"
        },
        "id": "9hKObANCZXCk",
        "outputId": "fc1d50eb-6ddd-4eb4-f5b6-d436dfb7d11d"
      },
      "execution_count": 12,
      "outputs": [
        {
          "output_type": "stream",
          "name": "stdout",
          "text": [
            "Top 10 Boys Names:\n",
            "1. Liam\n",
            "2. Noah\n",
            "3. Oliver\n",
            "4. Elijah\n",
            "5. James\n",
            "6. William\n",
            "7. Benjamin\n",
            "8. Lucas\n",
            "9. Henry\n",
            "10. Alexander\n",
            "\n",
            "Top 10 Girls Names:\n",
            "1. Olivia\n",
            "2. Emma\n",
            "3. Charlotte\n",
            "4. Amelia\n",
            "5. Ava\n",
            "6. Sophia\n",
            "7. Isabella\n",
            "8. Mia\n",
            "9. Evelyn\n",
            "10. Harper\n"
          ]
        }
      ]
    },
    {
      "cell_type": "code",
      "source": [
        "import pandas as pd\n",
        "\n",
        "# Load the dataset (assuming it has columns: 'Name', 'Gender', 'Count')\n",
        "data = pd.read_csv('baby_names.csv')\n",
        "\n",
        "# Group by 'Name' and sum the 'Count' for each name (in case the name appears more than once)\n",
        "name_counts = data.groupby('Name')['Count'].sum()\n",
        "\n",
        "# Find the name with the maximum count\n",
        "max_count_name = name_counts.idxmax()  # Name with max count\n",
        "max_count_value = name_counts.max()   # The max count itself\n",
        "\n",
        "# Find the name with the minimum count\n",
        "min_count_name = name_counts.idxmin()  # Name with min count\n",
        "min_count_value = name_counts.min()   # The min count itself\n",
        "\n",
        "# Display the results\n",
        "print(f\"Name with maximum count: {max_count_name} ({max_count_value})\")\n",
        "print(f\"Name with minimum count: {min_count_name} ({min_count_value})\")\n"
      ],
      "metadata": {
        "id": "mDSdONxhakC4"
      },
      "execution_count": null,
      "outputs": []
    },
    {
      "cell_type": "code",
      "source": [
        "import pandas as pd\n",
        "\n",
        "# Load the dataset (assuming it has columns: 'Name', 'Gender', 'Count')\n",
        "data = pd.read_csv('baby_names.csv')\n",
        "\n",
        "# Count the distinct names for each gender\n",
        "gender_name_count = data.groupby('Gender')['Name'].nunique()\n",
        "\n",
        "# Identify the gender with the most distinct names\n",
        "most_names_gender = gender_name_count.idxmax()\n",
        "most_names_gender_count = gender_name_count.max()\n",
        "\n",
        "# Display the gender with the most names\n",
        "print(f\"Gender with the most distinct names: {most_names_gender} ({most_names_gender_count} names)\")\n"
      ],
      "metadata": {
        "id": "1FlmV5o_bKQa"
      },
      "execution_count": null,
      "outputs": []
    },
    {
      "cell_type": "code",
      "source": [
        "import pandas as pd\n",
        "\n",
        "# Load the dataset (assuming it has columns: 'Name', 'Gender', 'Count')\n",
        "data = pd.read_csv('baby_names.csv')\n",
        "\n",
        "# Calculate the total count of babies\n",
        "total_count = data['Count'].sum()\n",
        "\n",
        "# Calculate the total count of male and female babies\n",
        "gender_counts = data.groupby('Gender')['Count'].sum()\n",
        "\n",
        "# Calculate the probabilities of male and female babies\n",
        "gender_probabilities = gender_counts / total_count\n",
        "\n",
        "# Display the gender probabilities\n",
        "print(\"Gender Probabilities:\")\n",
        "print(gender_probabilities)\n",
        "\n",
        "# To find the top 5 probabilities of individual names, we will calculate the probability of each name\n",
        "data['Probability'] = data['Count'] / total_count\n",
        "\n",
        "# Sort by probability and select the top 5 names with the highest probabilities\n",
        "top_5_names_probability = data.sort_values(by='Probability', ascending=False).head(5)\n",
        "\n",
        "# Display the top 5 names with the highest probabilities\n",
        "print(\"\\nTop 5 Names with the Highest Probabilities:\")\n",
        "print(top_5_names_probability[['Name', 'Gender', 'Probability']])\n"
      ],
      "metadata": {
        "id": "asO7iI-8bUpW"
      },
      "execution_count": null,
      "outputs": []
    },
    {
      "cell_type": "code",
      "source": [
        "import pandas as pd\n",
        "\n",
        "# Load the dataset\n",
        "df = pd.read_csv('baby_names.csv')\n",
        "\n",
        "# Calculate total number of babies\n",
        "total_babies = df['Count'].sum()\n",
        "\n",
        "# Calculate probability for each name\n",
        "df['Probability'] = df['Count'] / total_babies\n",
        "\n",
        "# Group by name and sum probabilities\n",
        "name_probs = df.groupby('Name')['Probability'].sum().reset_index()\n",
        "\n",
        "# Sort by probability in descending order and select top 5\n",
        "top_5_names = name_probs.sort_values(by=['Probability'], ascending=False).head(5)\n",
        "\n",
        "# Display the result\n",
        "print(top_5_names)"
      ],
      "metadata": {
        "id": "ZsHsrbTXbvxv"
      },
      "execution_count": null,
      "outputs": []
    },
    {
      "cell_type": "code",
      "source": [
        "import pandas as pd\n",
        "from sklearn.model_selection import train_test_split\n",
        "from sklearn.linear_model import LogisticRegression\n",
        "from sklearn.metrics import accuracy_score, classification_report\n",
        "\n",
        "# Load the dataset\n",
        "df = pd.read_csv('baby_names.csv')\n",
        "\n",
        "# Assuming 'Gender' is the target variable and 'Name' is the feature\n",
        "X = df[['Name']]  # Features\n",
        "y = df['Gender']  # Target variable\n",
        "\n",
        "# Convert 'Name' to numerical representation using one-hot encoding\n",
        "X = pd.get_dummies(X, columns=['Name'], prefix=['Name'])\n",
        "\n",
        "# Split data into training and testing sets\n",
        "X_train, X_test, y_train, y_test = train_test_split(X, y, test_size=0.2, random_state=42)\n",
        "\n",
        "# Create and train the logistic regression model\n",
        "model = LogisticRegression()\n",
        "model.fit(X_train, y_train)\n",
        "\n",
        "# Make predictions on the test set\n",
        "y_pred = model.predict(X_test)\n",
        "\n",
        "# Evaluate the model\n",
        "accuracy = accuracy_score(y_test, y_pred)\n",
        "print(\"Accuracy:\", accuracy)\n",
        "\n",
        "# Print classification report for more detailed metrics\n",
        "print(classification_report(y_test, y_pred))"
      ],
      "metadata": {
        "id": "Oew_d6u8cAe0"
      },
      "execution_count": null,
      "outputs": []
    }
  ]
}